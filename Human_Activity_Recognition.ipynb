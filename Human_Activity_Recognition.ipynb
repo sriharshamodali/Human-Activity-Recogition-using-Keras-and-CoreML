{
 "cells": [
  {
   "cell_type": "code",
   "execution_count": 26,
   "metadata": {},
   "outputs": [],
   "source": [
    "import numpy as np\n",
    "import pandas as pd\n",
    "import matplotlib.pyplot as plt\n",
    "import seaborn as sns\n",
    "%matplotlib inline\n",
    "\n",
    "import keras\n",
    "from keras.models import Sequential\n",
    "from keras.layers import Dense, Dropout, Flatten, Reshape\n",
    "from keras.layers import Conv2D, MaxPooling2D\n",
    "from keras.utils import np_utils\n",
    "\n",
    "from sklearn import metrics\n",
    "from sklearn.metrics import classification_report\n",
    "from sklearn.preprocessing import LabelEncoder"
   ]
  },
  {
   "cell_type": "code",
   "execution_count": 30,
   "metadata": {},
   "outputs": [],
   "source": [
    "LABELS = ['Downstairs',\n",
    "          'Jogging',\n",
    "          'Sitting',\n",
    "          'Standing',\n",
    "          'Upstairs',\n",
    "          'Walking']\n",
    "columns = ['user-id','activity','timestamp','x-axis','y-axis','z-axis']\n",
    "df = pd.read_csv('WISDM_ar_v1.1_raw.txt',header=None,names=columns)\n",
    "df['z-axis'].replace(to_replace=r';',value=r'',regex=True,inplace=True)\n",
    "df['z-axis'] = df['z-axis'].apply(convert_to_float)\n",
    "df.dropna(axis=0, how='any', inplace=True)"
   ]
  },
  {
   "cell_type": "code",
   "execution_count": 29,
   "metadata": {},
   "outputs": [],
   "source": [
    "def convert_to_float(x):\n",
    "\n",
    "    try:\n",
    "        return np.float(x)\n",
    "    except:\n",
    "        return np.nan"
   ]
  },
  {
   "cell_type": "code",
   "execution_count": 31,
   "metadata": {},
   "outputs": [
    {
     "data": {
      "image/png": "[encoded data removed]",
      "text/plain": [
       "<Figure size 432x288 with 1 Axes>"
      ]
     },
     "metadata": {
      "needs_background": "light"
     },
     "output_type": "display_data"
    }
   ],
   "source": [
    "#Visualizing the data based on activity type\n",
    "df['activity'].value_counts().plot(kind='bar',title='Records by Activity type')\n",
    "plt.show()"
   ]
  },
  {
   "cell_type": "code",
   "execution_count": 32,
   "metadata": {},
   "outputs": [
    {
     "data": {
      "image/png": "[encoded data removed]",
      "text/plain": [
       "<Figure size 432x288 with 1 Axes>"
      ]
     },
     "metadata": {
      "needs_background": "light"
     },
     "output_type": "display_data"
    }
   ],
   "source": [
    "#visualizing the data based on user id\n",
    "df['user-id'].value_counts().plot(kind='bar',title='Records by User')\n",
    "plt.show()"
   ]
  },
  {
   "cell_type": "code",
   "execution_count": 33,
   "metadata": {},
   "outputs": [],
   "source": [
    "#Adding a new column for encoded activities\n",
    "activity_labels = LabelEncoder()\n",
    "df['ActivityEncoded'] = activity_labels.fit_transform(df['activity'].values.ravel())"
   ]
  },
  {
   "cell_type": "code",
   "execution_count": 34,
   "metadata": {},
   "outputs": [],
   "source": [
    "#Splitting into training and testing data\n",
    "df_train = df[df['user-id'] > 28]\n",
    "df_test = df[df['user-id'] <= 28]"
   ]
  },
  {
   "cell_type": "code",
   "execution_count": 35,
   "metadata": {},
   "outputs": [],
   "source": [
    "#Normisation of data\n",
    "pd.options.mode.chained_assignment = None  # default='warn'\n",
    "df_train['x-axis'] = df_train['x-axis'] / df_train['x-axis'].max()\n",
    "df_train['y-axis'] = df_train['y-axis'] / df_train['y-axis'].max()\n",
    "df_train['z-axis'] = df_train['z-axis'] / df_train['z-axis'].max()\n",
    "# Round numbers\n",
    "df_train = df_train.round({'x-axis': 4, 'y-axis': 4, 'z-axis': 4})"
   ]
  },
  {
   "cell_type": "code",
   "execution_count": 36,
   "metadata": {},
   "outputs": [],
   "source": [
    "from scipy import stats #statistical functions of scipy library\n",
    "#TIME_PERIODS stores the length of the time segment\n",
    "TIME_PERIODS = 80\n",
    "#STEP_DISTANCE determines the amount of overlap between two consecutive time segments\n",
    "STEP_DISTANCE = 40\n",
    "# x, y, z acceleration as features\n",
    "N_FEATURES = 3\n",
    "\n",
    "segments = []\n",
    "labels = []\n",
    "for i in range(0, len(df_train) - TIME_PERIODS, STEP_DISTANCE):\n",
    "    xs = df_train['x-axis'].values[i: i + TIME_PERIODS]\n",
    "    ys = df_train['y-axis'].values[i: i + TIME_PERIODS]\n",
    "    zs = df_train['z-axis'].values[i: i + TIME_PERIODS]\n",
    "    # Retrieve the most often used label in this segment\n",
    "    label = stats.mode(df_train['ActivityEncoded'][i: i + TIME_PERIODS])[0][0]\n",
    "    segments.append([xs, ys, zs])\n",
    "    labels.append(label)\n",
    "\n",
    "# Bring the segments into a better shape\n",
    "x_train = np.asarray(segments, dtype= np.float32).reshape(-1, TIME_PERIODS, N_FEATURES)\n",
    "y_train = np.asarray(labels)"
   ]
  },
  {
   "cell_type": "code",
   "execution_count": 37,
   "metadata": {},
   "outputs": [],
   "source": [
    "num_time_periods, num_sensors = x_train.shape[1],x_train.shape[2]\n",
    "num_classes = activity_labels.classes_.size"
   ]
  },
  {
   "cell_type": "code",
   "execution_count": 38,
   "metadata": {},
   "outputs": [],
   "source": [
    "x_train = x_train.reshape(x_train.shape[0], num_time_periods*num_sensors)"
   ]
  },
  {
   "cell_type": "code",
   "execution_count": 39,
   "metadata": {},
   "outputs": [],
   "source": [
    "x_train = x_train.astype('float32')\n",
    "y_train = y_train.astype('float32')"
   ]
  },
  {
   "cell_type": "code",
   "execution_count": 40,
   "metadata": {},
   "outputs": [],
   "source": [
    "y_train_hot = np_utils.to_categorical(y_train, num_classes)"
   ]
  },
  {
   "cell_type": "code",
   "execution_count": 41,
   "metadata": {},
   "outputs": [],
   "source": [
    "model_dnn = Sequential()\n",
    "model_dnn.add(Reshape((TIME_PERIODS, 3), input_shape=(num_time_periods*num_sensors,)))\n",
    "model_dnn.add(Dense(100, activation='relu'))\n",
    "model_dnn.add(Dense(100, activation='relu'))\n",
    "model_dnn.add(Dense(100, activation='relu'))\n",
    "model_dnn.add(Flatten())\n",
    "model_dnn.add(Dense(num_classes, activation='softmax'))\n",
    "model_dnn.compile(loss=keras.losses.categorical_crossentropy,\n",
    "              optimizer=keras.optimizers.SGD(lr=0.01),\n",
    "              metrics=['accuracy'])"
   ]
  },
  {
   "cell_type": "code",
   "execution_count": 45,
   "metadata": {},
   "outputs": [
    {
     "name": "stdout",
     "output_type": "stream",
     "text": [
      "Train on 5267 samples, validate on 1317 samples\n",
      "Epoch 1/50\n",
      "5267/5267 [==============================] - 1s 146us/step - loss: 1.3602 - acc: 0.4792 - val_loss: 1.4201 - val_acc: 0.6264\n",
      "Epoch 2/50\n",
      "5267/5267 [==============================] - 1s 136us/step - loss: 1.3115 - acc: 0.5493 - val_loss: 1.3590 - val_acc: 0.6538\n",
      "Epoch 3/50\n",
      "5267/5267 [==============================] - 1s 134us/step - loss: 1.2587 - acc: 0.6119 - val_loss: 1.3002 - val_acc: 0.6545\n",
      "Epoch 4/50\n",
      "5267/5267 [==============================] - 1s 134us/step - loss: 1.2059 - acc: 0.6446 - val_loss: 1.2515 - val_acc: 0.6553\n",
      "Epoch 5/50\n",
      "5267/5267 [==============================] - 1s 141us/step - loss: 1.1564 - acc: 0.6628 - val_loss: 1.2115 - val_acc: 0.6560\n",
      "Epoch 6/50\n",
      "5267/5267 [==============================] - 1s 137us/step - loss: 1.1097 - acc: 0.6873 - val_loss: 1.1558 - val_acc: 0.6568\n",
      "Epoch 7/50\n",
      "5267/5267 [==============================] - 1s 144us/step - loss: 1.0649 - acc: 0.6987 - val_loss: 1.1161 - val_acc: 0.6576\n",
      "Epoch 8/50\n",
      "5267/5267 [==============================] - 1s 142us/step - loss: 1.0195 - acc: 0.7080 - val_loss: 1.0714 - val_acc: 0.6576\n",
      "Epoch 9/50\n",
      "5267/5267 [==============================] - 1s 137us/step - loss: 0.9754 - acc: 0.7217 - val_loss: 1.0375 - val_acc: 0.6576\n",
      "Epoch 10/50\n",
      "5267/5267 [==============================] - 1s 140us/step - loss: 0.9315 - acc: 0.7298 - val_loss: 1.0003 - val_acc: 0.6583\n",
      "Epoch 11/50\n",
      "5267/5267 [==============================] - 1s 143us/step - loss: 0.8889 - acc: 0.7454 - val_loss: 0.9770 - val_acc: 0.6576\n",
      "Epoch 12/50\n",
      "5267/5267 [==============================] - 1s 139us/step - loss: 0.8500 - acc: 0.7486 - val_loss: 0.9440 - val_acc: 0.6614\n",
      "Epoch 13/50\n",
      "5267/5267 [==============================] - 1s 143us/step - loss: 0.8109 - acc: 0.7621 - val_loss: 0.9133 - val_acc: 0.6887\n",
      "Epoch 14/50\n",
      "5267/5267 [==============================] - 1s 141us/step - loss: 0.7771 - acc: 0.7744 - val_loss: 0.8898 - val_acc: 0.6879\n",
      "Epoch 15/50\n",
      "5267/5267 [==============================] - 1s 145us/step - loss: 0.7439 - acc: 0.7828 - val_loss: 0.8820 - val_acc: 0.7092\n",
      "Epoch 16/50\n",
      "5267/5267 [==============================] - 1s 144us/step - loss: 0.7133 - acc: 0.7917 - val_loss: 0.8579 - val_acc: 0.7077\n",
      "Epoch 17/50\n",
      "5267/5267 [==============================] - 1s 141us/step - loss: 0.6877 - acc: 0.7940 - val_loss: 0.8463 - val_acc: 0.7115\n",
      "Epoch 18/50\n",
      "5267/5267 [==============================] - 1s 141us/step - loss: 0.6616 - acc: 0.7955 - val_loss: 0.8369 - val_acc: 0.7137\n",
      "Epoch 19/50\n",
      "5267/5267 [==============================] - 1s 157us/step - loss: 0.6378 - acc: 0.8006 - val_loss: 0.8054 - val_acc: 0.7191\n",
      "Epoch 20/50\n",
      "5267/5267 [==============================] - 1s 149us/step - loss: 0.6178 - acc: 0.8096 - val_loss: 0.7919 - val_acc: 0.7198\n",
      "Epoch 21/50\n",
      "5267/5267 [==============================] - 1s 147us/step - loss: 0.6002 - acc: 0.8174 - val_loss: 0.7967 - val_acc: 0.7229\n",
      "Epoch 22/50\n",
      "5267/5267 [==============================] - 1s 154us/step - loss: 0.5811 - acc: 0.8221 - val_loss: 0.7959 - val_acc: 0.7183\n",
      "Epoch 23/50\n",
      "5267/5267 [==============================] - 1s 145us/step - loss: 0.5641 - acc: 0.8270 - val_loss: 0.7755 - val_acc: 0.7183\n",
      "Epoch 24/50\n",
      "5267/5267 [==============================] - 1s 140us/step - loss: 0.5486 - acc: 0.8305 - val_loss: 0.7736 - val_acc: 0.7335\n",
      "Epoch 25/50\n",
      "5267/5267 [==============================] - 1s 150us/step - loss: 0.5373 - acc: 0.8329 - val_loss: 0.7874 - val_acc: 0.7198\n",
      "Epoch 26/50\n",
      "5267/5267 [==============================] - 1s 145us/step - loss: 0.5265 - acc: 0.8320 - val_loss: 0.7599 - val_acc: 0.7342\n"
     ]
    }
   ],
   "source": [
    "BATCH_SIZE = 100\n",
    "EPOCHS = 50\n",
    "callbacks_list = [\n",
    "    keras.callbacks.ModelCheckpoint(\n",
    "        filepath='best_model.{epoch:02d}-{val_loss:.2f}.h5',\n",
    "        monitor='val_loss', save_best_only=True),\n",
    "    keras.callbacks.EarlyStopping(monitor='acc', patience=1)\n",
    "]\n",
    "history = model_dnn.fit(x_train, y_train_hot,batch_size=BATCH_SIZE,epochs=EPOCHS,callbacks=callbacks_list,validation_split=0.2,verbose=1)"
   ]
  },
  {
   "cell_type": "code",
   "execution_count": 47,
   "metadata": {},
   "outputs": [
    {
     "data": {
      "image/png": "[encoded data removed]",
      "text/plain": [
       "<Figure size 432x288 with 1 Axes>"
      ]
     },
     "metadata": {
      "needs_background": "light"
     },
     "output_type": "display_data"
    }
   ],
   "source": [
    "plt.figure()\n",
    "plt.plot(history.history['acc'],'r',label='Accuracy of training data')\n",
    "plt.plot(history.history['val_acc'],'b',label='Accuracy of validation data')\n",
    "plt.plot(history.history['loss'],'r--',label='Loss of training data')\n",
    "plt.plot(history.history['val_loss'],'b--',label='Loss of validation data')\n",
    "plt.title('Model Accuracy and Loss')\n",
    "plt.xlabel('Accuracy and Loss')\n",
    "plt.ylabel('Epoch')\n",
    "plt.legend()\n",
    "plt.show()"
   ]
  },
  {
   "cell_type": "code",
   "execution_count": 48,
   "metadata": {},
   "outputs": [],
   "source": [
    "#Normisation of test data\n",
    "pd.options.mode.chained_assignment = None  # default='warn'\n",
    "df_test['x-axis'] = df_test['x-axis'] / df_test['x-axis'].max()\n",
    "df_test['y-axis'] = df_test['y-axis'] / df_test['y-axis'].max()\n",
    "df_test['z-axis'] = df_test['z-axis'] / df_test['z-axis'].max()\n",
    "# Round numbers\n",
    "df_test = df_test.round({'x-axis': 4, 'y-axis': 4, 'z-axis': 4})"
   ]
  },
  {
   "cell_type": "code",
   "execution_count": 49,
   "metadata": {},
   "outputs": [],
   "source": [
    "from scipy import stats #statistical functions of scipy library\n",
    "#TIME_PERIODS stores the length of the time segment\n",
    "TIME_PERIODS = 80\n",
    "#STEP_DISTANCE determines the amount of overlap between two consecutive time segments\n",
    "STEP_DISTANCE = 40\n",
    "# x, y, z acceleration as features\n",
    "N_FEATURES = 3\n",
    "\n",
    "segments = []\n",
    "labels = []\n",
    "for i in range(0, len(df_test) - TIME_PERIODS, STEP_DISTANCE):\n",
    "    xs = df_test['x-axis'].values[i: i + TIME_PERIODS]\n",
    "    ys = df_test['y-axis'].values[i: i + TIME_PERIODS]\n",
    "    zs = df_test['z-axis'].values[i: i + TIME_PERIODS]\n",
    "    # Retrieve the most often used label in this segment\n",
    "    label = stats.mode(df_test['ActivityEncoded'][i: i + TIME_PERIODS])[0][0]\n",
    "    segments.append([xs, ys, zs])\n",
    "    labels.append(label)\n",
    "\n",
    "# Bring the segments into a better shape\n",
    "x_test = np.asarray(segments, dtype= np.float32).reshape(-1, TIME_PERIODS, N_FEATURES)\n",
    "y_test = np.asarray(labels)\n",
    "\n",
    "num_time_periods, num_sensors = x_test.shape[1],x_test.shape[2]\n",
    "num_classes = activity_labels.classes_.size\n",
    "\n",
    "x_test = x_test.reshape(x_test.shape[0], num_time_periods*num_sensors)\n",
    "\n",
    "x_test = x_test.astype('float32')\n",
    "y_test = y_test.astype('float32')\n",
    "\n",
    "y_test_hot = np_utils.to_categorical(y_test, num_classes)"
   ]
  },
  {
   "cell_type": "code",
   "execution_count": 50,
   "metadata": {},
   "outputs": [
    {
     "name": "stdout",
     "output_type": "stream",
     "text": [
      "20868/20868 [==============================] - 1s 64us/step\n",
      "\n",
      "Accuracy on test data: 0.70\n",
      "\n",
      "Loss on test data: 0.87\n"
     ]
    }
   ],
   "source": [
    "score = model_dnn.evaluate(x_test,y_test_hot,verbose=1)\n",
    "\n",
    "print('\\nAccuracy on test data: %0.2f' % score[1])\n",
    "print('\\nLoss on test data: %0.2f' % score[0])"
   ]
  },
  {
   "cell_type": "code",
   "execution_count": null,
   "metadata": {},
   "outputs": [],
   "source": [
    "import coremltools\n",
    "coreml_model = coremltools.converters.keras.convert(model_dnn,\n",
    "                                                    input_names=['acceleration'],\n",
    "                                                    output_names=['output'],\n",
    "                                                    class_labels=LABELS)\n",
    "\n",
    "print(coreml_model)\n",
    "coreml_model.author = 'Harsha'\n",
    "coreml_model.license = 'N/A'\n",
    "coreml_model.short_description = 'Activity based recognition based on WISDM dataset'\n",
    "coreml_model.output_description['output'] = 'Probability of each activity'\n",
    "coreml_model.output_description['classLabel'] = 'Labels of activity'\n",
    "\n",
    "coreml_model.save('HARClassifier.mlmodel')"
   ]
  },
  {
   "cell_type": "code",
   "execution_count": null,
   "metadata": {},
   "outputs": [],
   "source": [
    "print('\\nPrediction from Keras:')\n",
    "test_record = x_test[1].reshape(1,input_shape)\n",
    "keras_prediction = np.argmax(model_m.predict(test_record), axis=1)\n",
    "print(le.inverse_transform(keras_prediction)[0])\n",
    "print('\\nPrediction from Coreml:')\n",
    "coreml_prediction = coreml_model.predict({'acceleration': test_record.reshape(input_shape)})\n",
    "print(coreml_prediction[\"classLabel\"])"
   ]
  },
  {
   "cell_type": "code",
   "execution_count": null,
   "metadata": {},
   "outputs": [],
   "source": []
  }
 ],
 "metadata": {
  "kernelspec": {
   "display_name": "Python 2",
   "language": "python",
   "name": "python2"
  },
  "language_info": {
   "codemirror_mode": {
    "name": "ipython",
    "version": 2
   },
   "file_extension": ".py",
   "mimetype": "text/x-python",
   "name": "python",
   "nbconvert_exporter": "python",
   "pygments_lexer": "ipython2",
   "version": "2.7.15"
  }
 },
 "nbformat": 4,
 "nbformat_minor": 2
}
